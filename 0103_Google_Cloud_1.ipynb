{
  "nbformat": 4,
  "nbformat_minor": 0,
  "metadata": {
    "colab": {
      "provenance": [],
      "authorship_tag": "ABX9TyOltuYh6WWfd0AFkBkhUdyp",
      "include_colab_link": true
    },
    "kernelspec": {
      "name": "python3",
      "display_name": "Python 3"
    },
    "language_info": {
      "name": "python"
    }
  },
  "cells": [
    {
      "cell_type": "markdown",
      "metadata": {
        "id": "view-in-github",
        "colab_type": "text"
      },
      "source": [
        "<a href=\"https://colab.research.google.com/github/routingg/Python/blob/main/0103_Google_Cloud_1.ipynb\" target=\"_parent\"><img src=\"https://colab.research.google.com/assets/colab-badge.svg\" alt=\"Open In Colab\"/></a>"
      ]
    },
    {
      "cell_type": "code",
      "execution_count": 3,
      "metadata": {
        "colab": {
          "base_uri": "https://localhost:8080/"
        },
        "id": "WjuPuTyxwuGb",
        "outputId": "9568dcd1-eb19-4dae-8c33-1cda3003e077"
      },
      "outputs": [
        {
          "output_type": "stream",
          "name": "stdout",
          "text": [
            "This is class\n",
            "wow OOP\n"
          ]
        }
      ],
      "source": [
        "class Test:\n",
        "  str = \"This is class\"\n",
        "\n",
        "test1 = Test()\n",
        "print(test1.str)\n",
        "\n",
        "\n",
        "class Person:\n",
        "  def say(self):\n",
        "    print('wow OOP')\n",
        "\n",
        "# 일반함수와 클래스 내부의 함수(인스턴스 메소드)의 차이점 - self\n",
        "# 인스턴스 메소드의 경우 인수에 항상 self를 가장 맨 앞에 두어야 한다!\n",
        "\n",
        "\n",
        "p1 = Person()\n",
        "p1.say()\n",
        "\n",
        "\n",
        "class Person2:\n",
        "  pass\n"
      ]
    },
    {
      "cell_type": "code",
      "source": [
        "# 파이썬의 클래스에는 여러가지 특별한 메소드 들이 존재 : 메소드명 앞, 뒤에 언더바 2개(__)\n",
        "# google 검색: python special attribute\n",
        "# ex) init method: 클래스가 인스턴스화 될때 자동으로 호출, 객체가 생성될 때 여러가지 초기화 작업을 하고자 할 때 유용\n",
        "\n",
        "class Person3:\n",
        "  def __init__(self, name):\n",
        "    self.name = name\n",
        "\n",
        "  def info(self):\n",
        "    print(f'이 객체의 이름은 {self.name} 입니다.')\n",
        "\n",
        "p2 = Person3('홍길동')\n",
        "p3 = Person3('신사임당')\n",
        "p2.info()\n",
        "p3.info()\n"
      ],
      "metadata": {
        "colab": {
          "base_uri": "https://localhost:8080/"
        },
        "id": "EsjPIhAgzPMq",
        "outputId": "b90b2a4a-a6ef-4240-b746-fe3367976741"
      },
      "execution_count": 6,
      "outputs": [
        {
          "output_type": "stream",
          "name": "stdout",
          "text": [
            "이 객체의 이름은 홍길동 입니다.\n",
            "이 객체의 이름은 신사임당 입니다.\n"
          ]
        }
      ]
    },
    {
      "cell_type": "code",
      "source": [
        "# 클래스의 필드는 네임스페이스 (클래스 내부 또는 객체 내부)에서만 의미가 있다.\n",
        "# 필드를 누가 소유하고 있느냐에 따라서 클래스 변수, 객체(인스턴스) 변수로 구분\n",
        "\n",
        "# 클래스 변수의 특성 : 클래스로 부터 생성된 모든 인스턴스들이 접근할 수 있다.(공유 O), 어떤 객체가 클래스 변수를 변경한다면 다른 인스턴스들에게도 변경 내용이 반영된다.\n",
        "# 객체 변수의 윽성: 클래스로부터 생성된 각각의 객체(인스턴스)에 속해 있는 변수, 각 객체별로 하나씩 따로 가질 수 있는 변수(공유 X)\n",
        "\n",
        "\n",
        "class Character:\n",
        "\n",
        "  cnt = 0\n",
        "\n",
        "  def __init__(self, name):     # 객체 데이터 초기화\n",
        "    self.name = name      # self.name : 객체(인스턴스) 변수\n",
        "    print(f'{self.name} 이/가 생성 중...........')\n",
        "    Character.cnt += 1    # 인스턴스 메소드에서 클래스 변수로 접근 : 클래스명.클래스변수\n",
        "\n",
        "  def info(self):\n",
        "    print('생성 완료 ... 반갑습니다. 내 이름은 {} 입니다.'.format(self.name))\n",
        "\n",
        "  @classmethod      # @ : decorator : 특수한 기능을 가진 메소드로 지정\n",
        "  def check(cls):\n",
        "    print(f'현재 생성된 캐릭터가 {Character.cnt} 명 있습니다.')\n",
        "\n",
        "  def die(self):\n",
        "    if (Character.cnt > 0):\n",
        "      Character.cnt -= 1\n",
        "      print(f'{self.name} 이/가 사망하였습니다.')\n",
        "    elif (Character.cnt == 0):\n",
        "      print(f'{self.name} 이/가 최후의 생존자였다.')\n",
        "      # die() 구현되지 않도록 처리 추가\n",
        "    else:\n",
        "      Character.cnt == 0\n",
        "      print('생성된 캐릭터가 없습니다.')\n",
        "\n",
        "npc1 = Character('홍길동')\n",
        "npc1.info()\n",
        "npc2 = Character('유관순')\n",
        "npc2.info()\n",
        "\n",
        "Character.check()\n",
        "print()\n",
        "\n",
        "npc3 = Character('신사임당')\n",
        "npc3.info()\n",
        "Character.check()\n",
        "print()\n",
        "\n",
        "Character.die(npc1)\n",
        "Character.check()"
      ],
      "metadata": {
        "colab": {
          "base_uri": "https://localhost:8080/"
        },
        "id": "HVNajSk24yv6",
        "outputId": "fc18d578-6189-454e-f9bc-db34f672ebd8"
      },
      "execution_count": 14,
      "outputs": [
        {
          "output_type": "stream",
          "name": "stdout",
          "text": [
            "홍길동 이/가 생성 중...........\n",
            "생성 완료 ... 반갑습니다. 내 이름은 홍길동 입니다.\n",
            "유관순 이/가 생성 중...........\n",
            "생성 완료 ... 반갑습니다. 내 이름은 유관순 입니다.\n",
            "현재 생성된 캐릭터가 2 명 있습니다.\n",
            "\n",
            "신사임당 이/가 생성 중...........\n",
            "생성 완료 ... 반갑습니다. 내 이름은 신사임당 입니다.\n",
            "현재 생성된 캐릭터가 3 명 있습니다.\n",
            "\n",
            "홍길동 이/가 사망하였습니다.\n",
            "현재 생성된 캐릭터가 2 명 있습니다.\n"
          ]
        }
      ]
    },
    {
      "cell_type": "code",
      "source": [],
      "metadata": {
        "id": "trbWKZh--vwB"
      },
      "execution_count": null,
      "outputs": []
    },
    {
      "cell_type": "code",
      "source": [],
      "metadata": {
        "id": "1s3-3u6ZMWf2"
      },
      "execution_count": null,
      "outputs": []
    }
  ]
}