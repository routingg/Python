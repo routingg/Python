{
  "nbformat": 4,
  "nbformat_minor": 0,
  "metadata": {
    "colab": {
      "provenance": [],
      "authorship_tag": "ABX9TyOkg4cjvgQ6Ih1ByvGedvdo",
      "include_colab_link": true
    },
    "kernelspec": {
      "name": "python3",
      "display_name": "Python 3"
    },
    "language_info": {
      "name": "python"
    }
  },
  "cells": [
    {
      "cell_type": "markdown",
      "metadata": {
        "id": "view-in-github",
        "colab_type": "text"
      },
      "source": [
        "<a href=\"https://colab.research.google.com/github/routingg/Python/blob/main/0103_Practice.ipynb\" target=\"_parent\"><img src=\"https://colab.research.google.com/assets/colab-badge.svg\" alt=\"Open In Colab\"/></a>"
      ]
    },
    {
      "cell_type": "code",
      "execution_count": 1,
      "metadata": {
        "colab": {
          "base_uri": "https://localhost:8080/"
        },
        "id": "kRqurR_3e3hq",
        "outputId": "490bd1ab-846b-4693-8699-5ce63cdea9cc"
      },
      "outputs": [
        {
          "output_type": "stream",
          "name": "stdout",
          "text": [
            "3 x 1 = 3\n",
            "3 x 2 = 6\n",
            "3 x 3 = 9\n",
            "3 x 4 = 12\n",
            "3 x 5 = 15\n",
            "3 x 6 = 18\n",
            "3 x 7 = 21\n",
            "3 x 8 = 24\n",
            "3 x 9 = 27\n"
          ]
        }
      ],
      "source": [
        "def cal(num):\n",
        "  for i in range(1, 10):\n",
        "    print(num, 'x', i, '=', num*i)\n",
        "\n",
        "cal(3)"
      ]
    },
    {
      "cell_type": "code",
      "source": [
        "class GuGuDan():\n",
        "\n",
        "  def print(self, num):\n",
        "    for i in range(1, 10):\n",
        "      print(num, 'x', i, '=', num*i)\n",
        "\n",
        "\n",
        "dan = GuGuDan()\n",
        "dan.print(3)"
      ],
      "metadata": {
        "colab": {
          "base_uri": "https://localhost:8080/"
        },
        "id": "cnDEUEKlfHsW",
        "outputId": "8b52d30e-1959-4795-b868-3367457d0861"
      },
      "execution_count": 2,
      "outputs": [
        {
          "output_type": "stream",
          "name": "stdout",
          "text": [
            "3 x 1 = 3\n",
            "3 x 2 = 6\n",
            "3 x 3 = 9\n",
            "3 x 4 = 12\n",
            "3 x 5 = 15\n",
            "3 x 6 = 18\n",
            "3 x 7 = 21\n",
            "3 x 8 = 24\n",
            "3 x 9 = 27\n"
          ]
        }
      ]
    },
    {
      "cell_type": "code",
      "source": [
        "class Calculator():\n",
        "  def __init__(self):\n",
        "    self.value = 0\n",
        "\n",
        "  def add(self, val):\n",
        "    self.value += val\n",
        "\n",
        "class UpgradeCalculator(Calculator):\n",
        "  def minus(self, val):\n",
        "    self.value -= val\n"
      ],
      "metadata": {
        "id": "AFKwxK-Bindv"
      },
      "execution_count": 3,
      "outputs": []
    },
    {
      "cell_type": "code",
      "source": [
        "cal = UpgradeCalculator()\n",
        "cal.add(10)\n",
        "cal.minus(7)\n",
        "\n",
        "print(cal.value)"
      ],
      "metadata": {
        "colab": {
          "base_uri": "https://localhost:8080/"
        },
        "id": "HwknxSwpir4G",
        "outputId": "e1ccd5ca-f195-4f07-db05-5faa97f5b8c6"
      },
      "execution_count": 4,
      "outputs": [
        {
          "output_type": "stream",
          "name": "stdout",
          "text": [
            "3\n"
          ]
        }
      ]
    },
    {
      "cell_type": "code",
      "source": [
        "class Calculator():\n",
        "  def __init__(self):\n",
        "    self.value = 0\n",
        "\n",
        "  def add(self, val):\n",
        "    self.value += val\n",
        "\n",
        "class MaxLimitCalculator(Calculator):\n",
        "  def add(self, val):\n",
        "    self.value += val\n",
        "    if(self.value >= 100):\n",
        "      self.value -= val\n",
        "      print(\"100 이상의 값은 가질 수 없습니다.\")"
      ],
      "metadata": {
        "id": "W2TBAaDCjVHG"
      },
      "execution_count": 5,
      "outputs": []
    },
    {
      "cell_type": "code",
      "source": [
        "cal = MaxLimitCalculator()\n",
        "cal.add(50)\n",
        "cal.add(60)\n",
        "\n",
        "print(cal.value)"
      ],
      "metadata": {
        "colab": {
          "base_uri": "https://localhost:8080/"
        },
        "id": "eO9-g_AdjZhG",
        "outputId": "dbf94b6b-5b7e-4b9d-f95f-49de1d2448cf"
      },
      "execution_count": 6,
      "outputs": [
        {
          "output_type": "stream",
          "name": "stdout",
          "text": [
            "100 이상의 값은 가질 수 없습니다.\n",
            "50\n"
          ]
        }
      ]
    }
  ]
}