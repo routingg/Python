{
  "nbformat": 4,
  "nbformat_minor": 0,
  "metadata": {
    "colab": {
      "provenance": [],
      "authorship_tag": "ABX9TyNaimchdfZK9oartDxay5oy",
      "include_colab_link": true
    },
    "kernelspec": {
      "name": "python3",
      "display_name": "Python 3"
    },
    "language_info": {
      "name": "python"
    }
  },
  "cells": [
    {
      "cell_type": "markdown",
      "metadata": {
        "id": "view-in-github",
        "colab_type": "text"
      },
      "source": [
        "<a href=\"https://colab.research.google.com/github/routingg/Python/blob/main/0103%20Google%20Cloud-2.ipynb\" target=\"_parent\"><img src=\"https://colab.research.google.com/assets/colab-badge.svg\" alt=\"Open In Colab\"/></a>"
      ]
    },
    {
      "cell_type": "code",
      "execution_count": 1,
      "metadata": {
        "id": "-WbGwCKmOGMc"
      },
      "outputs": [],
      "source": [
        "# [상속]\n",
        "\n",
        "#사람 클래스\n",
        "class Human():\n",
        "  def eat(self):\n",
        "    print('삼시세끼를 잘 챙겨먹자')\n",
        "\n",
        "  def sleep(self):\n",
        "    print('쿨쿨 자요')\n",
        "\n",
        "  def walk(self):\n",
        "    print('두 발로 걸어요')\n",
        "\n",
        "  def coding(self):\n",
        "    print('copy & paste')\n",
        "\n",
        "\n",
        " # 강아지 클래스\n",
        "class Dog():\n",
        "  def eat(self):\n",
        "    print('사료를 먹어요')\n",
        "\n",
        "  def sleep(self):\n",
        "    print('쿨쿨 잘자요')\n",
        "\n",
        "  def walking(self):\n",
        "    print('네 발로 걸어요')\n",
        "\n",
        "  def detect(self):\n",
        "    print('집을 잘 지켜요')\n",
        "\n",
        "\n",
        "# 각 클래스를 정의하면 보통 공통된 속성을 가지고 있음\n",
        "# 위 두 클래스는 포유류(동물)이므로 공통된 속성이 있는게 당연\n",
        "# 이 공유되는 부분을 따로 만들어 두고(추상화), 각 클래스가 공유되는 부분을 받아서 사용할 수 있도록 하는게 효율적 => 상속\n",
        "# 코드를 재사용하는 한 가지 방법\n",
        "# 부모 클래스(super class) - 자식 클래스(sub class)"
      ]
    },
    {
      "cell_type": "code",
      "source": [
        "# 상속을 통한 구현\n",
        "\n",
        "class Animal():\n",
        "  def eat(self):\n",
        "    print('맛있는 음식을 먹는다')\n",
        "\n",
        "  def sleep(self):\n",
        "    print('쿨쿨 자요')\n",
        "\n",
        "  def move(self):\n",
        "    print('객체가 움직인다')\n",
        "\n",
        "\n",
        "# 상속 : 클래스(부모 클래스)\n",
        "class Human(Animal):\n",
        "  def coding(self):\n",
        "    print('copy & paste')\n",
        "\n",
        "  def walk(self):\n",
        "    print('나는 두 발로 걷지요')\n",
        "\n",
        "  def move(self):\n",
        "    self.walk()\n",
        "\n",
        "class Dog(Animal):\n",
        "  def detect(self):\n",
        "    print('집을 잘 지켜요')\n",
        "\n",
        "  def walking(self):\n",
        "    print('나는 네 발로 걷지요')\n",
        "\n",
        "  def move(self):\n",
        "    self.walking()\n",
        "\n",
        "\n",
        "person = Human()\n",
        "person.eat()\n",
        "person.sleep()\n",
        "person.coding()\n",
        "person.move()\n",
        "\n",
        "print()\n",
        "\n",
        "dog = Dog()\n",
        "dog.eat()\n",
        "dog.sleep()\n",
        "dog.detect()\n",
        "dog.move()\n",
        "\n",
        "# 사람과 개는 동일하게 걷지는 않음. 걷는다를 표현하면서 표현방식만 달리 사용\n",
        "# 상속 = method overriding"
      ],
      "metadata": {
        "colab": {
          "base_uri": "https://localhost:8080/"
        },
        "id": "ynUuzrpROhgz",
        "outputId": "4f185e57-497b-4bb9-93b7-2e052f5e3734"
      },
      "execution_count": 6,
      "outputs": [
        {
          "output_type": "stream",
          "name": "stdout",
          "text": [
            "맛있는 음식을 먹는다\n",
            "쿨쿨 자요\n",
            "copy & paste\n",
            "나는 두 발로 걷지요\n",
            "\n",
            "맛있는 음식을 먹는다\n",
            "쿨쿨 자요\n",
            "집을 잘 지켜요\n",
            "나는 네 발로 걷지요\n"
          ]
        }
      ]
    }
  ]
}