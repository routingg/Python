{
  "nbformat": 4,
  "nbformat_minor": 0,
  "metadata": {
    "colab": {
      "provenance": [],
      "authorship_tag": "ABX9TyPNPAn+9eHokD3nr8qTfWVm",
      "include_colab_link": true
    },
    "kernelspec": {
      "name": "python3",
      "display_name": "Python 3"
    },
    "language_info": {
      "name": "python"
    }
  },
  "cells": [
    {
      "cell_type": "markdown",
      "metadata": {
        "id": "view-in-github",
        "colab_type": "text"
      },
      "source": [
        "<a href=\"https://colab.research.google.com/github/routingg/Python/blob/main/0102_Google_Cloud.ipynb\" target=\"_parent\"><img src=\"https://colab.research.google.com/assets/colab-badge.svg\" alt=\"Open In Colab\"/></a>"
      ]
    },
    {
      "cell_type": "code",
      "execution_count": null,
      "metadata": {
        "id": "zFXLS9AzH-U2"
      },
      "outputs": [],
      "source": [
        "# 객체지향 프로그래밍\n",
        "# OOP: Object Oriented Programming\n",
        "\n",
        "# 쿠키 틀: 클래스, 쿠키 틀로 찍어낸 각각의 쿠키 : 객체(인스턴스)\n",
        "\n",
        "# 클래스명은 첫글자를 대문자(권장)\n",
        "# 클래스에 선언된 변수는 필드(field)라 부름\n",
        "# 클래스에 선언된 함수는 메소드(method)라 부름\n",
        "# 필드와 메소드를 통틀어서 클래스의 속성(attribute)라고 부름\n"
      ]
    },
    {
      "cell_type": "code",
      "source": [
        "# 객체가 특정 클래스에 속하는지 여부 확인 : isinstance()\n",
        "\n",
        "class Human:\n",
        "  pass\n",
        "\n",
        "person1 = Human()\n",
        "person2 = Human()\n",
        "\n",
        "print(type(person1), type(person2))\n",
        "print(type(1), type('hello'))\n",
        "\n",
        "print(isinstance(1, float))\n",
        "print(isinstance(person1, Human))\n",
        "print(person1 == person2)\n",
        "print(person1, '-', person2)"
      ],
      "metadata": {
        "colab": {
          "base_uri": "https://localhost:8080/"
        },
        "id": "87CRwwslM0AP",
        "outputId": "534da191-50f1-400c-f949-a123447ba1e4"
      },
      "execution_count": 1,
      "outputs": [
        {
          "output_type": "stream",
          "name": "stdout",
          "text": [
            "<class '__main__.Human'> <class '__main__.Human'>\n",
            "<class 'int'> <class 'str'>\n",
            "False\n",
            "True\n",
            "False\n",
            "<__main__.Human object at 0x7c2254be9900> - <__main__.Human object at 0x7c2254be9720>\n"
          ]
        }
      ]
    },
    {
      "cell_type": "code",
      "source": [
        "person1.language = 'KOREAN'\n",
        "person2.language = 'AMERICAN'\n",
        "print(person1.language, person2.language)\n",
        "\n",
        "# 이름 주입\n",
        "person1.name = \"유관순\"\n",
        "person2.name = \"안창호\"\n",
        "print(person1.name, person2.name)\n",
        "\n",
        "# 행위 주입\n",
        "def speak(person):\n",
        "  print('{} 님이 {} 로 연설합니다.'.format(person.name, person.language))\n",
        "\n",
        "Human.speak = speak\n",
        "\n",
        "speak(person1)    # 선유행위 -> 후유객체\n",
        "speak(person2)    # 위 함수 사용은 객체 안에 즉, 객체가 함수를 적용한 것이 아님, 일반 함수를 그냥 사용하는 형태로 구현된 결과\n",
        "                  # 클래스 안에 함수를 적용하려면 행위 자체도 인스턴스화 되어야 한다."
      ],
      "metadata": {
        "colab": {
          "base_uri": "https://localhost:8080/"
        },
        "id": "t2zlNJd-O0-H",
        "outputId": "e8f12713-61a7-46dc-fa18-333107a83e61"
      },
      "execution_count": 17,
      "outputs": [
        {
          "output_type": "stream",
          "name": "stdout",
          "text": [
            "KOREAN AMERICAN\n",
            "유관순 안창호\n",
            "유관순 님이 KOREAN 로 연설합니다.\n",
            "안창호 님이 AMERICAN 로 연설합니다.\n"
          ]
        }
      ]
    },
    {
      "cell_type": "code",
      "source": [
        "person3 = Human()\n",
        "person3.name = \"신사임당\"\n",
        "person3.height = '150'\n",
        "\n",
        "print(person3, person3.name, person3.height)"
      ],
      "metadata": {
        "colab": {
          "base_uri": "https://localhost:8080/"
        },
        "id": "LzVvtC3mWdQ8",
        "outputId": "10c01b2b-5879-400e-9097-f26506650739"
      },
      "execution_count": 2,
      "outputs": [
        {
          "output_type": "stream",
          "name": "stdout",
          "text": [
            "<__main__.Human object at 0x7c2254beb820> 신사임당 150\n"
          ]
        }
      ]
    },
    {
      "cell_type": "code",
      "source": [
        "def create_human(name, height):\n",
        "  person = Human()\n",
        "  person.name = name\n",
        "  person.height = height\n",
        "\n",
        "  return person"
      ],
      "metadata": {
        "id": "1_nvJrncYL_s"
      },
      "execution_count": 5,
      "outputs": []
    },
    {
      "cell_type": "code",
      "source": [
        "Human.create = create_human   #Human 클래스의 메소드로 지정\n",
        "person4 = Human.create(\"윤봉길\", 180.2)   # 객체의 실체화 -> 모델링\n",
        "print(person4)"
      ],
      "metadata": {
        "colab": {
          "base_uri": "https://localhost:8080/"
        },
        "id": "0XOvTPAhZJAs",
        "outputId": "db118c81-97ec-4f7c-94ec-20603929f5f2"
      },
      "execution_count": 6,
      "outputs": [
        {
          "output_type": "stream",
          "name": "stdout",
          "text": [
            "<__main__.Human object at 0x7c2254beba00>\n"
          ]
        }
      ]
    },
    {
      "cell_type": "code",
      "source": [
        "class Individual() :\n",
        "\n",
        "  def create_human(name, height):\n",
        "    person = Individual()\n",
        "    person.name = name\n",
        "    person.height = height\n",
        "\n",
        "    return person\n",
        "\n",
        "  def eat(person):\n",
        "    person.height += 0.3\n",
        "    print('{} 열사가 건강하게 먹어서 키가 {} 가 되었습니다.'.format(person.name, person.height))\n",
        "\n",
        "  def walk(person):\n",
        "    person.height += 0.1\n",
        "    print('{} 열사가 열심히 걸어서 키가 {} 가 되었습니다.'.format(person.name, person.height))\n",
        "\n",
        "\n",
        "person5 = Individual.create_human('유관순', 163.5)\n",
        "person5.eat()\n",
        "person5.walk()\n",
        "\n",
        "# 행위가 클래스(객체) 중심일 때는 이 객체가 수행한 것이므로 굳이 인자로 전달해줄 필요가 없다.\n",
        "# 메소드가 가진 특별한 규칙: 메소드 호출 시 첫번재 인자를 생략하면 인스턴스 자신으로 채워준다\n",
        "# keyword : self"
      ],
      "metadata": {
        "colab": {
          "base_uri": "https://localhost:8080/"
        },
        "id": "PLG-f6EQaYY0",
        "outputId": "65e4fb33-79d4-4175-9183-fdc48da57c74"
      },
      "execution_count": 13,
      "outputs": [
        {
          "output_type": "stream",
          "name": "stdout",
          "text": [
            "유관순 열사가 건강하게 먹어서 키가 163.8 가 되었습니다.\n",
            "유관순 열사가 열심히 걸어서 키가 163.9 가 되었습니다.\n"
          ]
        }
      ]
    }
  ]
}