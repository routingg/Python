{
  "nbformat": 4,
  "nbformat_minor": 0,
  "metadata": {
    "colab": {
      "provenance": [],
      "authorship_tag": "ABX9TyPlLcK413cgZ8GWe8yStMHp",
      "include_colab_link": true
    },
    "kernelspec": {
      "name": "python3",
      "display_name": "Python 3"
    },
    "language_info": {
      "name": "python"
    }
  },
  "cells": [
    {
      "cell_type": "markdown",
      "metadata": {
        "id": "view-in-github",
        "colab_type": "text"
      },
      "source": [
        "<a href=\"https://colab.research.google.com/github/routingg/Python/blob/main/0103_Google_Cloud-2.ipynb\" target=\"_parent\"><img src=\"https://colab.research.google.com/assets/colab-badge.svg\" alt=\"Open In Colab\"/></a>"
      ]
    },
    {
      "cell_type": "code",
      "execution_count": null,
      "metadata": {
        "id": "-WbGwCKmOGMc"
      },
      "outputs": [],
      "source": [
        "# [상속]\n",
        "\n",
        "#사람 클래스\n",
        "class Human():\n",
        "  def eat(self):\n",
        "    print('삼시세끼를 잘 챙겨먹자')\n",
        "\n",
        "  def sleep(self):\n",
        "    print('쿨쿨 자요')\n",
        "\n",
        "  def walk(self):\n",
        "    print('두 발로 걸어요')\n",
        "\n",
        "  def coding(self):\n",
        "    print('copy & paste')\n",
        "\n",
        "\n",
        " # 강아지 클래스\n",
        "class Dog():\n",
        "  def eat(self):\n",
        "    print('사료를 먹어요')\n",
        "\n",
        "  def sleep(self):\n",
        "    print('쿨쿨 잘자요')\n",
        "\n",
        "  def walking(self):\n",
        "    print('네 발로 걸어요')\n",
        "\n",
        "  def detect(self):\n",
        "    print('집을 잘 지켜요')\n",
        "\n",
        "\n",
        "# 각 클래스를 정의하면 보통 공통된 속성을 가지고 있음\n",
        "# 위 두 클래스는 포유류(동물)이므로 공통된 속성이 있는게 당연\n",
        "# 이 공유되는 부분을 따로 만들어 두고(추상화), 각 클래스가 공유되는 부분을 받아서 사용할 수 있도록 하는게 효율적 => 상속\n",
        "# 코드를 재사용하는 한 가지 방법\n",
        "# 부모 클래스(super class) - 자식 클래스(sub class)"
      ]
    },
    {
      "cell_type": "code",
      "source": [
        "# 상속을 통한 구현\n",
        "\n",
        "class Animal():\n",
        "  def eat(self):\n",
        "    print('맛있는 음식을 먹는다')\n",
        "\n",
        "  def sleep(self):\n",
        "    print('쿨쿨 자요')\n",
        "\n",
        "  def move(self):\n",
        "    print('객체가 움직인다')\n",
        "\n",
        "\n",
        "# 상속 : 클래스(부모 클래스)\n",
        "class Human(Animal):\n",
        "  def coding(self):\n",
        "    print('copy & paste')\n",
        "\n",
        "  def walk(self):\n",
        "    print('나는 두 발로 걷지요')\n",
        "\n",
        "  def move(self):\n",
        "    self.walk()\n",
        "\n",
        "class Dog(Animal):\n",
        "  def detect(self):\n",
        "    print('집을 잘 지켜요')\n",
        "\n",
        "  def walking(self):\n",
        "    print('나는 네 발로 걷지요')\n",
        "\n",
        "  def move(self):\n",
        "    self.walking()\n",
        "\n",
        "\n",
        "person = Human()\n",
        "person.eat()\n",
        "person.sleep()\n",
        "person.coding()\n",
        "person.move()\n",
        "\n",
        "print()\n",
        "\n",
        "dog = Dog()\n",
        "dog.eat()\n",
        "dog.sleep()\n",
        "dog.detect()\n",
        "dog.move()\n",
        "\n",
        "# 사람과 개는 동일하게 걷지는 않음. 걷는다를 표현하면서 표현방식만 달리 사용\n",
        "# 상속 = method overriding"
      ],
      "metadata": {
        "colab": {
          "base_uri": "https://localhost:8080/"
        },
        "id": "ynUuzrpROhgz",
        "outputId": "873f68a3-0f36-467b-cf95-a3b6ee90cd33"
      },
      "execution_count": null,
      "outputs": [
        {
          "output_type": "stream",
          "name": "stdout",
          "text": [
            "맛있는 음식을 먹는다\n",
            "쿨쿨 자요\n",
            "copy & paste\n",
            "나는 두 발로 걷지요\n",
            "\n",
            "맛있는 음식을 먹는다\n",
            "쿨쿨 자요\n",
            "집을 잘 지켜요\n",
            "나는 네 발로 걷지요\n"
          ]
        }
      ]
    },
    {
      "cell_type": "code",
      "source": [
        "class Animal():\n",
        "  def __init__(self, name):\n",
        "    self.name = name\n",
        "\n",
        "  def eat(self):\n",
        "    print('맛있는 음식을 먹는다')\n",
        "\n",
        "  def sleep(self):\n",
        "    print('쿨쿨 자요')\n",
        "\n",
        "  def move(self):\n",
        "    print(f'걷는 것은 {self.name} 이다.')\n",
        "\n",
        "\n",
        "class Human(Animal):\n",
        "\n",
        "  def __init__(self, name):\n",
        "    #부모의 메소드를 호출 : super()\n",
        "    super().__init__(name)\n",
        "\n",
        "  def coding(self):\n",
        "    print('copy & paste')\n",
        "\n",
        "  def walk(self):\n",
        "    print('두 발로')\n",
        "\n",
        "  def move(self):\n",
        "    self.walk()       # 두 발로\n",
        "    super().move()    # 걷는 것은 {} 이다.\n",
        "\n",
        "class Dog(Animal):\n",
        "  def detect(self):\n",
        "    print('집을 잘 지켜요')\n",
        "\n",
        "  def walking(self):\n",
        "    print('네 발로')\n",
        "\n",
        "  def move(self):\n",
        "    self.walking()\n",
        "    super().move()\n",
        "\n",
        "\n",
        "person = Human('사람')\n",
        "person.move()\n",
        "\n",
        "print()\n",
        "\n",
        "dog = Dog('강아지')\n",
        "dog.move()"
      ],
      "metadata": {
        "id": "foSBLKMyuC_7",
        "colab": {
          "base_uri": "https://localhost:8080/"
        },
        "outputId": "73512966-7bb4-4de0-fcbb-5dcd1a01b54d"
      },
      "execution_count": 5,
      "outputs": [
        {
          "output_type": "stream",
          "name": "stdout",
          "text": [
            "두 발로\n",
            "걷는 것은 사람 이다.\n",
            "\n",
            "네 발로\n",
            "걷는 것은 강아지 이다.\n"
          ]
        }
      ]
    },
    {
      "cell_type": "code",
      "source": [],
      "metadata": {
        "id": "a7SdImxnvgV7"
      },
      "execution_count": null,
      "outputs": []
    }
  ]
}