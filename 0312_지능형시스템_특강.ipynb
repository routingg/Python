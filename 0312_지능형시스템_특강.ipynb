{
  "nbformat": 4,
  "nbformat_minor": 0,
  "metadata": {
    "colab": {
      "provenance": [],
      "authorship_tag": "ABX9TyNOxBPYpYcgk1YbkkH1x2ow",
      "include_colab_link": true
    },
    "kernelspec": {
      "name": "python3",
      "display_name": "Python 3"
    },
    "language_info": {
      "name": "python"
    }
  },
  "cells": [
    {
      "cell_type": "markdown",
      "metadata": {
        "id": "view-in-github",
        "colab_type": "text"
      },
      "source": [
        "<a href=\"https://colab.research.google.com/github/routingg/Python/blob/main/0312_%EC%A7%80%EB%8A%A5%ED%98%95%EC%8B%9C%EC%8A%A4%ED%85%9C_%ED%8A%B9%EA%B0%95.ipynb\" target=\"_parent\"><img src=\"https://colab.research.google.com/assets/colab-badge.svg\" alt=\"Open In Colab\"/></a>"
      ]
    },
    {
      "cell_type": "code",
      "execution_count": 6,
      "metadata": {
        "colab": {
          "base_uri": "https://localhost:8080/"
        },
        "id": "mhsqsxBcoiKX",
        "outputId": "a190f523-ebea-4c52-b714-95950a5afa1b"
      },
      "outputs": [
        {
          "output_type": "stream",
          "name": "stdout",
          "text": [
            "1001010\n",
            "1110101\n",
            "1101110\n"
          ]
        },
        {
          "output_type": "execute_result",
          "data": {
            "text/plain": [
              "[' + - - + - + - ', ' + + + - + - + ', ' + + - + + + - ']"
            ]
          },
          "metadata": {},
          "execution_count": 6
        }
      ],
      "source": [
        "def solution(data):\n",
        "  s = ''\n",
        "  for i in data:\n",
        "    s += i.replace(' ', '').replace('+', '1').replace('-', '0')\n",
        "    print(i.replace(' ', '').replace('+', '1').replace('-', '0'))\n",
        "  return data\n",
        "\n",
        "\n",
        "solution([' + - - + - + - ', ' + + + - + - + ', ' + + - + + + - '])"
      ]
    },
    {
      "cell_type": "code",
      "source": [
        "ord('A')\n",
        "chr(65) # 숫자를 유니코드표에서 문자로 바꿔주는 내장 함수"
      ],
      "metadata": {
        "colab": {
          "base_uri": "https://localhost:8080/",
          "height": 35
        },
        "id": "gLTfsMDsprlc",
        "outputId": "95e4f4b5-7190-4978-d680-43fc421d2d96"
      },
      "execution_count": 8,
      "outputs": [
        {
          "output_type": "execute_result",
          "data": {
            "text/plain": [
              "'A'"
            ],
            "application/vnd.google.colaboratory.intrinsic+json": {
              "type": "string"
            }
          },
          "metadata": {},
          "execution_count": 8
        }
      ]
    },
    {
      "cell_type": "code",
      "source": [
        "int('1010', 2)"
      ],
      "metadata": {
        "colab": {
          "base_uri": "https://localhost:8080/"
        },
        "id": "tAA5RjzXp2s8",
        "outputId": "8a5b2a1c-f0e7-4b71-e6c3-a033aa71b745"
      },
      "execution_count": 9,
      "outputs": [
        {
          "output_type": "execute_result",
          "data": {
            "text/plain": [
              "10"
            ]
          },
          "metadata": {},
          "execution_count": 9
        }
      ]
    },
    {
      "cell_type": "code",
      "source": [
        "def solution(data):\n",
        "  s = ''\n",
        "  for i in data:\n",
        "    s += chr(int(i.replace(' ', '').replace('+', '1').replace('-', '0'), 2))\n",
        "\n",
        "  return s\n",
        "\n",
        "\n",
        "solution([' + - - + - + - ', ' + + + - + - + ', ' + + - + + + - '])"
      ],
      "metadata": {
        "colab": {
          "base_uri": "https://localhost:8080/",
          "height": 35
        },
        "id": "8oktSQ9AqE3E",
        "outputId": "847dc6cf-3951-484d-ab3d-85a30f1ed8b6"
      },
      "execution_count": 10,
      "outputs": [
        {
          "output_type": "execute_result",
          "data": {
            "text/plain": [
              "'Jun'"
            ],
            "application/vnd.google.colaboratory.intrinsic+json": {
              "type": "string"
            }
          },
          "metadata": {},
          "execution_count": 10
        }
      ]
    },
    {
      "cell_type": "markdown",
      "source": [
        "#위니북스(교재)\n",
        "https://www.books.weniv.co.kr/python/chapter03/03-1"
      ],
      "metadata": {
        "id": "7siOg1waw6kb"
      }
    },
    {
      "cell_type": "markdown",
      "source": [
        "find() / index() : 차이점 구분\n",
        "count\n",
        "strip\n",
        "replace\n",
        "split\n",
        "join\n",
        "format\n",
        "isdigit\n",
        "zfill\n",
        "=> 중요한 내용!"
      ],
      "metadata": {
        "id": "MK2s0Psx2Iz-"
      }
    },
    {
      "cell_type": "code",
      "source": [],
      "metadata": {
        "id": "uKPSMgX12nhk"
      },
      "execution_count": null,
      "outputs": []
    },
    {
      "cell_type": "code",
      "source": [
        "# 한 줄 주석입니다.\n",
        "\n",
        "'''\n",
        "여러 줄 주석입니다.\n",
        "'''\n",
        "\n",
        "\"\"\"\n",
        "여러 줄 주석입니다.\n",
        "\"\"\"\n",
        "\n",
        "# 주석은 회사 컨벤션 따라 갑니다 => Google convention\n",
        "# https://google.github.io/styleguide/pyguide.html\n",
        "# doc string?\n"
      ],
      "metadata": {
        "colab": {
          "base_uri": "https://localhost:8080/",
          "height": 35
        },
        "id": "IfqXULLhuMlU",
        "outputId": "ffce0e36-b9d8-4a2a-adce-c90ecc2889f8"
      },
      "execution_count": 11,
      "outputs": [
        {
          "output_type": "execute_result",
          "data": {
            "text/plain": [
              "'\\n여러 줄 주석입니다.\\n'"
            ],
            "application/vnd.google.colaboratory.intrinsic+json": {
              "type": "string"
            }
          },
          "metadata": {},
          "execution_count": 11
        }
      ]
    },
    {
      "cell_type": "markdown",
      "source": [
        "#변수"
      ],
      "metadata": {
        "id": "JO2KcOTdvMEM"
      }
    },
    {
      "cell_type": "code",
      "source": [
        "x = 10\n",
        "y = x\n",
        "z = y\n",
        "x = 20\n",
        "print(z)"
      ],
      "metadata": {
        "colab": {
          "base_uri": "https://localhost:8080/"
        },
        "id": "OQPCBNp2uV_U",
        "outputId": "0d7e7aef-a5d3-4700-ef0f-d31ce1d3f524"
      },
      "execution_count": 12,
      "outputs": [
        {
          "output_type": "stream",
          "name": "stdout",
          "text": [
            "10\n"
          ]
        }
      ]
    },
    {
      "cell_type": "code",
      "source": [
        "id(x) # 누구를 가리키고 있는가?"
      ],
      "metadata": {
        "colab": {
          "base_uri": "https://localhost:8080/"
        },
        "id": "JKOJKe4YvWz0",
        "outputId": "60ad4868-0324-481a-8f07-76ddf73129c8"
      },
      "execution_count": 13,
      "outputs": [
        {
          "output_type": "execute_result",
          "data": {
            "text/plain": [
              "140499078054736"
            ]
          },
          "metadata": {},
          "execution_count": 13
        }
      ]
    },
    {
      "cell_type": "code",
      "source": [
        "type(x)"
      ],
      "metadata": {
        "colab": {
          "base_uri": "https://localhost:8080/"
        },
        "id": "X8P9KQQHvW2M",
        "outputId": "c8b4c3e2-e156-4990-ea32-05883f287cd6"
      },
      "execution_count": 14,
      "outputs": [
        {
          "output_type": "execute_result",
          "data": {
            "text/plain": [
              "int"
            ]
          },
          "metadata": {},
          "execution_count": 14
        }
      ]
    },
    {
      "cell_type": "code",
      "source": [
        "dir(x)"
      ],
      "metadata": {
        "colab": {
          "base_uri": "https://localhost:8080/"
        },
        "id": "aTPkPkzwvW4d",
        "outputId": "106859a0-7a6f-4ff1-ab58-e33bdea99b02"
      },
      "execution_count": 15,
      "outputs": [
        {
          "output_type": "execute_result",
          "data": {
            "text/plain": [
              "['__abs__',\n",
              " '__add__',\n",
              " '__and__',\n",
              " '__bool__',\n",
              " '__ceil__',\n",
              " '__class__',\n",
              " '__delattr__',\n",
              " '__dir__',\n",
              " '__divmod__',\n",
              " '__doc__',\n",
              " '__eq__',\n",
              " '__float__',\n",
              " '__floor__',\n",
              " '__floordiv__',\n",
              " '__format__',\n",
              " '__ge__',\n",
              " '__getattribute__',\n",
              " '__getnewargs__',\n",
              " '__gt__',\n",
              " '__hash__',\n",
              " '__index__',\n",
              " '__init__',\n",
              " '__init_subclass__',\n",
              " '__int__',\n",
              " '__invert__',\n",
              " '__le__',\n",
              " '__lshift__',\n",
              " '__lt__',\n",
              " '__mod__',\n",
              " '__mul__',\n",
              " '__ne__',\n",
              " '__neg__',\n",
              " '__new__',\n",
              " '__or__',\n",
              " '__pos__',\n",
              " '__pow__',\n",
              " '__radd__',\n",
              " '__rand__',\n",
              " '__rdivmod__',\n",
              " '__reduce__',\n",
              " '__reduce_ex__',\n",
              " '__repr__',\n",
              " '__rfloordiv__',\n",
              " '__rlshift__',\n",
              " '__rmod__',\n",
              " '__rmul__',\n",
              " '__ror__',\n",
              " '__round__',\n",
              " '__rpow__',\n",
              " '__rrshift__',\n",
              " '__rshift__',\n",
              " '__rsub__',\n",
              " '__rtruediv__',\n",
              " '__rxor__',\n",
              " '__setattr__',\n",
              " '__sizeof__',\n",
              " '__str__',\n",
              " '__sub__',\n",
              " '__subclasshook__',\n",
              " '__truediv__',\n",
              " '__trunc__',\n",
              " '__xor__',\n",
              " 'as_integer_ratio',\n",
              " 'bit_count',\n",
              " 'bit_length',\n",
              " 'conjugate',\n",
              " 'denominator',\n",
              " 'from_bytes',\n",
              " 'imag',\n",
              " 'numerator',\n",
              " 'real',\n",
              " 'to_bytes']"
            ]
          },
          "metadata": {},
          "execution_count": 15
        }
      ]
    },
    {
      "cell_type": "code",
      "source": [
        "# dic : 3.6버전 이하는 순서 X, 3.6버전 부터는 순서 O\n",
        "# None : id 값이 하나\n",
        "# map, zip, filter, lambda : 실무에서 많이"
      ],
      "metadata": {
        "id": "ILRBMhkkvW68"
      },
      "execution_count": null,
      "outputs": []
    },
    {
      "cell_type": "code",
      "source": [
        "def hello():\n",
        "  a = '''hello\n",
        "world\n",
        "hi'''\n",
        "# => 가독성이 떨어져서 함수 내부에서 이렇게 사용하는 것은 권장하지 않음\n",
        "\n",
        "a = '''안녕하세요.\n",
        "저는 위니브의 대표 이호준입니다.\n",
        "파이썬 참 좋아요.\n",
        "여러분 정말 잘 선택하셨어요.\n",
        "'''\n",
        "\n",
        "b = 'hello\\nworld'\n",
        "\n",
        "# 정규 표현식 표현할 때 r 많이 사용 raw 값\n",
        "c = r'hello\\nworld'\n",
        "\n",
        "\n",
        "d = f'hello world'"
      ],
      "metadata": {
        "id": "BEKJ6EMWw-LS"
      },
      "execution_count": null,
      "outputs": []
    },
    {
      "cell_type": "code",
      "source": [
        "print(r'hello\\nworld')"
      ],
      "metadata": {
        "colab": {
          "base_uri": "https://localhost:8080/"
        },
        "id": "masKOSwrw-Ik",
        "outputId": "076b2166-fabc-4207-cb35-15385cae0c01"
      },
      "execution_count": 16,
      "outputs": [
        {
          "output_type": "stream",
          "name": "stdout",
          "text": [
            "hello\\nworld\n"
          ]
        }
      ]
    },
    {
      "cell_type": "code",
      "source": [
        "print('hello\\nworld')"
      ],
      "metadata": {
        "colab": {
          "base_uri": "https://localhost:8080/"
        },
        "id": "pz6rZ955w-Gr",
        "outputId": "e9ddc387-6bce-43b6-c256-ca7a6e7eec65"
      },
      "execution_count": 17,
      "outputs": [
        {
          "output_type": "stream",
          "name": "stdout",
          "text": [
            "hello\n",
            "world\n"
          ]
        }
      ]
    },
    {
      "cell_type": "code",
      "source": [
        "'hello world {} hello world {}'.format(10, 20)  # 이제 실무에서 사용 거의 X\n",
        "f'hello world {10} hello wolrd {20}'\n",
        "\n",
        "# f-string 문법에 대해 9시-6시까지 날 잡아서 공부해보시길..."
      ],
      "metadata": {
        "colab": {
          "base_uri": "https://localhost:8080/",
          "height": 35
        },
        "id": "JpNxkSqMw-B7",
        "outputId": "01d28420-bf3f-46c9-f33e-1c1148817103"
      },
      "execution_count": 20,
      "outputs": [
        {
          "output_type": "execute_result",
          "data": {
            "text/plain": [
              "'hello world 10 hello wolrd 20'"
            ],
            "application/vnd.google.colaboratory.intrinsic+json": {
              "type": "string"
            }
          },
          "metadata": {},
          "execution_count": 20
        }
      ]
    },
    {
      "cell_type": "code",
      "source": [
        "1 + 1\n",
        "2 + 1\n",
        "3 + 1\n",
        "4 + 1"
      ],
      "metadata": {
        "colab": {
          "base_uri": "https://localhost:8080/"
        },
        "id": "3mBCJdGlyjnp",
        "outputId": "9ff941f1-974f-4e2c-d5c4-f0c599b56f38"
      },
      "execution_count": 21,
      "outputs": [
        {
          "output_type": "execute_result",
          "data": {
            "text/plain": [
              "5"
            ]
          },
          "metadata": {},
          "execution_count": 21
        }
      ]
    },
    {
      "cell_type": "code",
      "source": [
        "1 + 1\n",
        "2 + 1\n",
        "3 + 1\n",
        "4 + 1\n",
        "\n",
        "# ctrl + alt + 아래키?"
      ],
      "metadata": {
        "id": "17FC16B3yj5z"
      },
      "execution_count": null,
      "outputs": []
    },
    {
      "cell_type": "code",
      "source": [
        "print(1 + 1)\n",
        "print(2 + 1)\n",
        "print(3 + 1)\n",
        "print(4 + 1)"
      ],
      "metadata": {
        "id": "Qz6rBwUezFAd"
      },
      "execution_count": null,
      "outputs": []
    },
    {
      "cell_type": "code",
      "source": [
        "# print와 그냥 출력한게 다름\n",
        "\n",
        "class Hello:\n",
        "  def __str__(self):\n",
        "    return 'hello'\n",
        "\n",
        "  def __repr__(self):   # 공식 문자\n",
        "    return 'world'\n",
        "\n",
        "hi = Hello()\n",
        "print(hi)"
      ],
      "metadata": {
        "colab": {
          "base_uri": "https://localhost:8080/"
        },
        "id": "dOmqAxc6zFDk",
        "outputId": "f48133ce-4651-4b94-a080-de369718319a"
      },
      "execution_count": 22,
      "outputs": [
        {
          "output_type": "stream",
          "name": "stdout",
          "text": [
            "hello\n"
          ]
        }
      ]
    },
    {
      "cell_type": "code",
      "source": [
        "hi"
      ],
      "metadata": {
        "colab": {
          "base_uri": "https://localhost:8080/"
        },
        "id": "fsbT7AZmzFF2",
        "outputId": "9c0c00c9-5132-40a6-a99a-c112957e53a4"
      },
      "execution_count": 23,
      "outputs": [
        {
          "output_type": "execute_result",
          "data": {
            "text/plain": [
              "world"
            ]
          },
          "metadata": {},
          "execution_count": 23
        }
      ]
    },
    {
      "cell_type": "code",
      "source": [
        "# - 슬라이싱은 파이썬 내부적으로 양수로 바꿔서 연산함\n",
        "'hello world'[-3:]\n",
        "'hello world'[8:]\n"
      ],
      "metadata": {
        "colab": {
          "base_uri": "https://localhost:8080/",
          "height": 35
        },
        "id": "RuN4ckwdzFIE",
        "outputId": "6ee7c785-7441-4990-937b-330f0bfcd9f0"
      },
      "execution_count": 24,
      "outputs": [
        {
          "output_type": "execute_result",
          "data": {
            "text/plain": [
              "'rld'"
            ],
            "application/vnd.google.colaboratory.intrinsic+json": {
              "type": "string"
            }
          },
          "metadata": {},
          "execution_count": 24
        }
      ]
    },
    {
      "cell_type": "code",
      "source": [
        "'hello world'.find('hi')"
      ],
      "metadata": {
        "colab": {
          "base_uri": "https://localhost:8080/"
        },
        "id": "FBM-rf_v0WJT",
        "outputId": "6b0492bd-227b-42c2-ea06-c86c471d078b"
      },
      "execution_count": 25,
      "outputs": [
        {
          "output_type": "execute_result",
          "data": {
            "text/plain": [
              "-1"
            ]
          },
          "metadata": {},
          "execution_count": 25
        }
      ]
    },
    {
      "cell_type": "code",
      "source": [
        "'hello world'.index('hi')"
      ],
      "metadata": {
        "colab": {
          "base_uri": "https://localhost:8080/",
          "height": 147
        },
        "id": "CMRmA5w20WHL",
        "outputId": "fa1e99e7-b4c1-43f2-c033-54aa6280b4b7"
      },
      "execution_count": 26,
      "outputs": [
        {
          "output_type": "error",
          "ename": "ValueError",
          "evalue": "substring not found",
          "traceback": [
            "\u001b[0;31m---------------------------------------------------------------------------\u001b[0m",
            "\u001b[0;31mValueError\u001b[0m                                Traceback (most recent call last)",
            "\u001b[0;32m<ipython-input-26-7b541bc8cfd3>\u001b[0m in \u001b[0;36m<cell line: 1>\u001b[0;34m()\u001b[0m\n\u001b[0;32m----> 1\u001b[0;31m \u001b[0;34m'hello world'\u001b[0m\u001b[0;34m.\u001b[0m\u001b[0mindex\u001b[0m\u001b[0;34m(\u001b[0m\u001b[0;34m'hi'\u001b[0m\u001b[0;34m)\u001b[0m\u001b[0;34m\u001b[0m\u001b[0;34m\u001b[0m\u001b[0m\n\u001b[0m",
            "\u001b[0;31mValueError\u001b[0m: substring not found"
          ]
        }
      ]
    },
    {
      "cell_type": "code",
      "source": [
        "# 이렇게 실수할 확률이 높아요!\n",
        "if 'hello world'.find('hi'):\n",
        "  print('찾았다!')"
      ],
      "metadata": {
        "colab": {
          "base_uri": "https://localhost:8080/"
        },
        "id": "qucn4kSY0WE9",
        "outputId": "03183917-82dd-40b5-908d-c88eab014f4c"
      },
      "execution_count": 29,
      "outputs": [
        {
          "output_type": "stream",
          "name": "stdout",
          "text": [
            "찾았다!\n"
          ]
        }
      ]
    },
    {
      "cell_type": "code",
      "source": [
        "# '0' ~ '10000' 에서 8의 개수 세기(88은 두 개) _ 구글 입사 문제\n",
        "\n",
        "# [0, 0, 0, 0]\n",
        "# [9, 9, 9, 9]\n",
        "\n",
        "list(range(100))\n",
        "str(list(range(100)))\n",
        "str(list(range(100))).count('8')"
      ],
      "metadata": {
        "colab": {
          "base_uri": "https://localhost:8080/"
        },
        "id": "jLN6Axt80ihm",
        "outputId": "83015251-06fb-41cf-ea50-96f96f823885"
      },
      "execution_count": 31,
      "outputs": [
        {
          "output_type": "execute_result",
          "data": {
            "text/plain": [
              "20"
            ]
          },
          "metadata": {},
          "execution_count": 31
        }
      ]
    },
    {
      "cell_type": "code",
      "source": [],
      "metadata": {
        "id": "ALzZMdml0irF"
      },
      "execution_count": null,
      "outputs": []
    },
    {
      "cell_type": "code",
      "source": [],
      "metadata": {
        "id": "QBp6xSJN0is0"
      },
      "execution_count": null,
      "outputs": []
    },
    {
      "cell_type": "code",
      "source": [],
      "metadata": {
        "id": "HXxRseDU0ivF"
      },
      "execution_count": null,
      "outputs": []
    },
    {
      "cell_type": "code",
      "source": [],
      "metadata": {
        "id": "rCXKGXZv0ixU"
      },
      "execution_count": null,
      "outputs": []
    },
    {
      "cell_type": "code",
      "source": [],
      "metadata": {
        "id": "4iT_7pIW0izs"
      },
      "execution_count": null,
      "outputs": []
    },
    {
      "cell_type": "code",
      "source": [],
      "metadata": {
        "id": "IUukbWiD0WA8"
      },
      "execution_count": null,
      "outputs": []
    }
  ]
}